{
 "cells": [
  {
   "cell_type": "markdown",
   "id": "a9c76ee8",
   "metadata": {},
   "source": [
    "# How To Construct Pandas Series"
   ]
  },
  {
   "cell_type": "code",
   "execution_count": 5,
   "id": "4609e630",
   "metadata": {},
   "outputs": [],
   "source": [
    "import pandas as pd\n",
    "import numpy as np"
   ]
  },
  {
   "cell_type": "code",
   "execution_count": 6,
   "id": "305f669d",
   "metadata": {},
   "outputs": [],
   "source": [
    "pd.Series?"
   ]
  },
  {
   "cell_type": "code",
   "execution_count": 7,
   "id": "7bb85be1",
   "metadata": {},
   "outputs": [],
   "source": [
    "list = [1.0, 2.0, 0.3, 0.4, 0.5, 0.6]"
   ]
  },
  {
   "cell_type": "code",
   "execution_count": 8,
   "id": "d8ae01f9",
   "metadata": {},
   "outputs": [
    {
     "data": {
      "text/plain": [
       "0    1.0\n",
       "1    2.0\n",
       "2    0.3\n",
       "3    0.4\n",
       "4    0.5\n",
       "5    0.6\n",
       "dtype: float64"
      ]
     },
     "execution_count": 8,
     "metadata": {},
     "output_type": "execute_result"
    }
   ],
   "source": [
    "ser_list = pd.Series(list)\n",
    "ser_list"
   ]
  },
  {
   "cell_type": "code",
   "execution_count": 9,
   "id": "fb8c15aa",
   "metadata": {},
   "outputs": [
    {
     "data": {
      "text/plain": [
       "0    1.0\n",
       "1    2.0\n",
       "2    0.3\n",
       "3    0.4\n",
       "4    0.5\n",
       "5    0.6\n",
       "dtype: float64"
      ]
     },
     "execution_count": 9,
     "metadata": {},
     "output_type": "execute_result"
    }
   ],
   "source": [
    "pd.Series([1.0,2.0,0.3,0.4,0.5,0.6])"
   ]
  },
  {
   "cell_type": "code",
   "execution_count": 10,
   "id": "c51de8b1",
   "metadata": {},
   "outputs": [],
   "source": [
    "dic = {1:'A', 2:'B', 3:'C', 1:'D' ,4:'E', 6:'F'}"
   ]
  },
  {
   "cell_type": "code",
   "execution_count": 11,
   "id": "83006710",
   "metadata": {},
   "outputs": [
    {
     "data": {
      "text/plain": [
       "1    D\n",
       "2    B\n",
       "3    C\n",
       "4    E\n",
       "6    F\n",
       "dtype: object"
      ]
     },
     "execution_count": 11,
     "metadata": {},
     "output_type": "execute_result"
    }
   ],
   "source": [
    "ser_dic = pd.Series(dic)\n",
    "ser_dic"
   ]
  },
  {
   "cell_type": "code",
   "execution_count": 12,
   "id": "bcb3e1c3",
   "metadata": {},
   "outputs": [
    {
     "data": {
      "text/plain": [
       "1    5\n",
       "2    5\n",
       "3    5\n",
       "4    5\n",
       "5    5\n",
       "dtype: int64"
      ]
     },
     "execution_count": 12,
     "metadata": {},
     "output_type": "execute_result"
    }
   ],
   "source": [
    "ser_scalar = pd.Series(5, index=[1,2,3,4,5])\n",
    "ser_scalar"
   ]
  },
  {
   "cell_type": "code",
   "execution_count": 13,
   "id": "fcfe4c3f",
   "metadata": {},
   "outputs": [
    {
     "data": {
      "text/plain": [
       "1    D\n",
       "2    B\n",
       "3    C\n",
       "dtype: object"
      ]
     },
     "execution_count": 13,
     "metadata": {},
     "output_type": "execute_result"
    }
   ],
   "source": [
    "ser_index = pd.Series({1:'A', 2:'B', 3:'C', 1:'D' ,4:'E', 6:'F'}, index =[1,2,3])\n",
    "ser_index"
   ]
  },
  {
   "cell_type": "code",
   "execution_count": 17,
   "id": "861cb967",
   "metadata": {},
   "outputs": [
    {
     "data": {
      "text/html": [
       "<div>\n",
       "<style scoped>\n",
       "    .dataframe tbody tr th:only-of-type {\n",
       "        vertical-align: middle;\n",
       "    }\n",
       "\n",
       "    .dataframe tbody tr th {\n",
       "        vertical-align: top;\n",
       "    }\n",
       "\n",
       "    .dataframe thead th {\n",
       "        text-align: right;\n",
       "    }\n",
       "</style>\n",
       "<table border=\"1\" class=\"dataframe\">\n",
       "  <thead>\n",
       "    <tr style=\"text-align: right;\">\n",
       "      <th></th>\n",
       "      <th>S.No.</th>\n",
       "      <th>STATE</th>\n",
       "      <th>DISTRICT</th>\n",
       "      <th>BLOCK</th>\n",
       "      <th>MCLF NAME</th>\n",
       "      <th>MCLF CODE</th>\n",
       "    </tr>\n",
       "  </thead>\n",
       "  <tbody>\n",
       "    <tr>\n",
       "      <th>0</th>\n",
       "      <td>1</td>\n",
       "      <td>ANDAMAN AND NICOBAR</td>\n",
       "      <td>NORTH AND MIDDLE ANDAMAN</td>\n",
       "      <td>DIGLIPUR</td>\n",
       "      <td>DEVI SHAKTI BLOCK LEVEL FEDERATION</td>\n",
       "      <td>AN/NO/DPUR/39400</td>\n",
       "    </tr>\n",
       "  </tbody>\n",
       "</table>\n",
       "</div>"
      ],
      "text/plain": [
       "   S.No.                STATE                  DISTRICT     BLOCK  \\\n",
       "0      1  ANDAMAN AND NICOBAR  NORTH AND MIDDLE ANDAMAN  DIGLIPUR   \n",
       "\n",
       "                            MCLF NAME         MCLF CODE  \n",
       "0  DEVI SHAKTI BLOCK LEVEL FEDERATION  AN/NO/DPUR/39400  "
      ]
     },
     "execution_count": 17,
     "metadata": {},
     "output_type": "execute_result"
    }
   ],
   "source": [
    "ser_csv = pd.read_csv('Random.csv')\n",
    "ser_csv"
   ]
  },
  {
   "cell_type": "code",
   "execution_count": 18,
   "id": "14b5f589",
   "metadata": {},
   "outputs": [
    {
     "data": {
      "text/plain": [
       "0    ANDAMAN AND NICOBAR\n",
       "Name: STATE, dtype: object"
      ]
     },
     "execution_count": 18,
     "metadata": {},
     "output_type": "execute_result"
    }
   ],
   "source": [
    "ser_csv['STATE']"
   ]
  },
  {
   "cell_type": "code",
   "execution_count": 19,
   "id": "a615803d",
   "metadata": {},
   "outputs": [
    {
     "name": "stdout",
     "output_type": "stream",
     "text": [
      "<class 'pandas.core.frame.DataFrame'>\n",
      "<class 'pandas.core.series.Series'>\n"
     ]
    }
   ],
   "source": [
    "print(type(ser_csv))\n",
    "print(type(ser_csv[\"STATE\"]))"
   ]
  },
  {
   "cell_type": "code",
   "execution_count": null,
   "id": "13389f02",
   "metadata": {},
   "outputs": [],
   "source": []
  }
 ],
 "metadata": {
  "kernelspec": {
   "display_name": "Python 3 (ipykernel)",
   "language": "python",
   "name": "python3"
  },
  "language_info": {
   "codemirror_mode": {
    "name": "ipython",
    "version": 3
   },
   "file_extension": ".py",
   "mimetype": "text/x-python",
   "name": "python",
   "nbconvert_exporter": "python",
   "pygments_lexer": "ipython3",
   "version": "3.9.13"
  }
 },
 "nbformat": 4,
 "nbformat_minor": 5
}
