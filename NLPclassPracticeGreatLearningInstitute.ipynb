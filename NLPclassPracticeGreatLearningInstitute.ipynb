{
 "cells": [
  {
   "cell_type": "markdown",
   "id": "caad8744",
   "metadata": {},
   "source": [
    "# Working with pdf file in Python"
   ]
  },
  {
   "cell_type": "code",
   "execution_count": 1,
   "id": "32d2b30b",
   "metadata": {},
   "outputs": [
    {
     "name": "stdout",
     "output_type": "stream",
     "text": [
      "Collecting PyPDF2\n",
      "  Downloading pypdf2-2.12.1-py3-none-any.whl (222 kB)\n",
      "     ------------------------------------ 222.8/222.8 kB 715.8 kB/s eta 0:00:00\n",
      "Requirement already satisfied: typing_extensions>=3.10.0.0 in c:\\users\\sharmajee\\anaconda3\\lib\\site-packages (from PyPDF2) (4.3.0)\n",
      "Installing collected packages: PyPDF2\n",
      "Successfully installed PyPDF2-2.12.1\n"
     ]
    }
   ],
   "source": [
    "!pip install PyPDF2"
   ]
  },
  {
   "cell_type": "code",
   "execution_count": 3,
   "id": "af4e0629",
   "metadata": {},
   "outputs": [],
   "source": [
    "import PyPDF2 as pdf"
   ]
  },
  {
   "cell_type": "code",
   "execution_count": 14,
   "id": "59817993",
   "metadata": {},
   "outputs": [
    {
     "name": "stdout",
     "output_type": "stream",
     "text": [
      "16\n"
     ]
    }
   ],
   "source": [
    "# creating a pdf file object\n",
    "data = open('TextBlob.pdf','rb')\n",
    "\n",
    "#creating a pdf reader object\n",
    "reader = pdf.PdfFileReader(data)\n",
    "\n",
    "#Printing number of pages in pdf file\n",
    "print(reader.numPages)"
   ]
  },
  {
   "cell_type": "code",
   "execution_count": 19,
   "id": "9e4a0545",
   "metadata": {},
   "outputs": [],
   "source": [
    "# creating a page object\n",
    "page = reader.getPage(12)"
   ]
  },
  {
   "cell_type": "code",
   "execution_count": 20,
   "id": "3549bdb0",
   "metadata": {},
   "outputs": [
    {
     "name": "stdout",
     "output_type": "stream",
     "text": [
      "Textblob Sentiment Analysis\n",
      "Proprietary content. ©Great Learning. All Rights Reserved. Unauthorized use or distribution prohibited\n"
     ]
    }
   ],
   "source": [
    "# extracting the text from page\n",
    "print(page.extractText())\n",
    "\n",
    "# closing the pdf file object\n",
    "data.close()"
   ]
  },
  {
   "cell_type": "markdown",
   "id": "21ffe903",
   "metadata": {},
   "source": [
    "# Working with text file in Python"
   ]
  },
  {
   "cell_type": "code",
   "execution_count": 22,
   "id": "985fa139",
   "metadata": {},
   "outputs": [
    {
     "name": "stdout",
     "output_type": "stream",
     "text": [
      "This text file is for testing purpose only.\n"
     ]
    }
   ],
   "source": [
    "text_data = open('TestingFile.txt','r')\n",
    "print(text_data.read())"
   ]
  },
  {
   "cell_type": "markdown",
   "id": "6d5bbb4c",
   "metadata": {},
   "source": [
    "# Working with CSV File"
   ]
  },
  {
   "cell_type": "code",
   "execution_count": 23,
   "id": "f55939ef",
   "metadata": {},
   "outputs": [],
   "source": [
    "import numpy as np\n",
    "import pandas as pd"
   ]
  },
  {
   "cell_type": "code",
   "execution_count": 29,
   "id": "758ad21a",
   "metadata": {},
   "outputs": [
    {
     "data": {
      "text/html": [
       "<div>\n",
       "<style scoped>\n",
       "    .dataframe tbody tr th:only-of-type {\n",
       "        vertical-align: middle;\n",
       "    }\n",
       "\n",
       "    .dataframe tbody tr th {\n",
       "        vertical-align: top;\n",
       "    }\n",
       "\n",
       "    .dataframe thead th {\n",
       "        text-align: right;\n",
       "    }\n",
       "</style>\n",
       "<table border=\"1\" class=\"dataframe\">\n",
       "  <thead>\n",
       "    <tr style=\"text-align: right;\">\n",
       "      <th></th>\n",
       "      <th>S.No.</th>\n",
       "      <th>STATE</th>\n",
       "      <th>DISTRICT</th>\n",
       "      <th>BLOCK</th>\n",
       "      <th>MCLF NAME</th>\n",
       "      <th>MCLF CODE</th>\n",
       "    </tr>\n",
       "  </thead>\n",
       "  <tbody>\n",
       "    <tr>\n",
       "      <th>0</th>\n",
       "      <td>1</td>\n",
       "      <td>ANDAMAN AND NICOBAR</td>\n",
       "      <td>NORTH AND MIDDLE ANDAMAN</td>\n",
       "      <td>DIGLIPUR</td>\n",
       "      <td>DEVI SHAKTI BLOCK LEVEL FEDERATION</td>\n",
       "      <td>AN/NO/DPUR/39400</td>\n",
       "    </tr>\n",
       "    <tr>\n",
       "      <th>1</th>\n",
       "      <td>2</td>\n",
       "      <td>BIHAR</td>\n",
       "      <td>NaN</td>\n",
       "      <td>SAMASTIPUR</td>\n",
       "      <td>NaN</td>\n",
       "      <td>NaN</td>\n",
       "    </tr>\n",
       "  </tbody>\n",
       "</table>\n",
       "</div>"
      ],
      "text/plain": [
       "   S.No.                STATE                  DISTRICT       BLOCK  \\\n",
       "0      1  ANDAMAN AND NICOBAR  NORTH AND MIDDLE ANDAMAN    DIGLIPUR   \n",
       "1      2                BIHAR                       NaN  SAMASTIPUR   \n",
       "\n",
       "                            MCLF NAME         MCLF CODE  \n",
       "0  DEVI SHAKTI BLOCK LEVEL FEDERATION  AN/NO/DPUR/39400  \n",
       "1                                 NaN               NaN  "
      ]
     },
     "execution_count": 29,
     "metadata": {},
     "output_type": "execute_result"
    }
   ],
   "source": [
    "data = pd.read_csv(\"Random.csv\")\n",
    "\n",
    "# we will get the first 5 rows of csv file\n",
    "data.head()"
   ]
  },
  {
   "cell_type": "code",
   "execution_count": 30,
   "id": "809776d4",
   "metadata": {},
   "outputs": [
    {
     "data": {
      "text/plain": [
       "Index(['S.No.', 'STATE', 'DISTRICT', 'BLOCK', 'MCLF NAME', 'MCLF CODE'], dtype='object')"
      ]
     },
     "execution_count": 30,
     "metadata": {},
     "output_type": "execute_result"
    }
   ],
   "source": [
    "data.columns"
   ]
  },
  {
   "cell_type": "code",
   "execution_count": 31,
   "id": "7834f14e",
   "metadata": {},
   "outputs": [
    {
     "data": {
      "text/plain": [
       "(2, 6)"
      ]
     },
     "execution_count": 31,
     "metadata": {},
     "output_type": "execute_result"
    }
   ],
   "source": [
    "data.shape"
   ]
  },
  {
   "cell_type": "code",
   "execution_count": 32,
   "id": "d2f58d2f",
   "metadata": {},
   "outputs": [
    {
     "data": {
      "text/html": [
       "<div>\n",
       "<style scoped>\n",
       "    .dataframe tbody tr th:only-of-type {\n",
       "        vertical-align: middle;\n",
       "    }\n",
       "\n",
       "    .dataframe tbody tr th {\n",
       "        vertical-align: top;\n",
       "    }\n",
       "\n",
       "    .dataframe thead th {\n",
       "        text-align: right;\n",
       "    }\n",
       "</style>\n",
       "<table border=\"1\" class=\"dataframe\">\n",
       "  <thead>\n",
       "    <tr style=\"text-align: right;\">\n",
       "      <th></th>\n",
       "      <th>S.No.</th>\n",
       "    </tr>\n",
       "  </thead>\n",
       "  <tbody>\n",
       "    <tr>\n",
       "      <th>count</th>\n",
       "      <td>2.000000</td>\n",
       "    </tr>\n",
       "    <tr>\n",
       "      <th>mean</th>\n",
       "      <td>1.500000</td>\n",
       "    </tr>\n",
       "    <tr>\n",
       "      <th>std</th>\n",
       "      <td>0.707107</td>\n",
       "    </tr>\n",
       "    <tr>\n",
       "      <th>min</th>\n",
       "      <td>1.000000</td>\n",
       "    </tr>\n",
       "    <tr>\n",
       "      <th>25%</th>\n",
       "      <td>1.250000</td>\n",
       "    </tr>\n",
       "    <tr>\n",
       "      <th>50%</th>\n",
       "      <td>1.500000</td>\n",
       "    </tr>\n",
       "    <tr>\n",
       "      <th>75%</th>\n",
       "      <td>1.750000</td>\n",
       "    </tr>\n",
       "    <tr>\n",
       "      <th>max</th>\n",
       "      <td>2.000000</td>\n",
       "    </tr>\n",
       "  </tbody>\n",
       "</table>\n",
       "</div>"
      ],
      "text/plain": [
       "          S.No.\n",
       "count  2.000000\n",
       "mean   1.500000\n",
       "std    0.707107\n",
       "min    1.000000\n",
       "25%    1.250000\n",
       "50%    1.500000\n",
       "75%    1.750000\n",
       "max    2.000000"
      ]
     },
     "execution_count": 32,
     "metadata": {},
     "output_type": "execute_result"
    }
   ],
   "source": [
    "data.describe()"
   ]
  },
  {
   "cell_type": "code",
   "execution_count": 34,
   "id": "1ade7b88",
   "metadata": {},
   "outputs": [
    {
     "data": {
      "text/plain": [
       "S.No.        0\n",
       "STATE        0\n",
       "DISTRICT     1\n",
       "BLOCK        0\n",
       "MCLF NAME    1\n",
       "MCLF CODE    1\n",
       "dtype: int64"
      ]
     },
     "execution_count": 34,
     "metadata": {},
     "output_type": "execute_result"
    }
   ],
   "source": [
    "data.isnull().sum()"
   ]
  },
  {
   "cell_type": "code",
   "execution_count": 36,
   "id": "f110643b",
   "metadata": {},
   "outputs": [
    {
     "data": {
      "text/plain": [
       "S.No.        False\n",
       "STATE        False\n",
       "DISTRICT      True\n",
       "BLOCK        False\n",
       "MCLF NAME     True\n",
       "MCLF CODE     True\n",
       "dtype: bool"
      ]
     },
     "execution_count": 36,
     "metadata": {},
     "output_type": "execute_result"
    }
   ],
   "source": [
    "data.isnull().any()"
   ]
  },
  {
   "cell_type": "code",
   "execution_count": 37,
   "id": "d300a6e8",
   "metadata": {},
   "outputs": [],
   "source": [
    "data_part = data.dropna()"
   ]
  },
  {
   "cell_type": "code",
   "execution_count": 38,
   "id": "5d65ce62",
   "metadata": {},
   "outputs": [
    {
     "data": {
      "text/html": [
       "<div>\n",
       "<style scoped>\n",
       "    .dataframe tbody tr th:only-of-type {\n",
       "        vertical-align: middle;\n",
       "    }\n",
       "\n",
       "    .dataframe tbody tr th {\n",
       "        vertical-align: top;\n",
       "    }\n",
       "\n",
       "    .dataframe thead th {\n",
       "        text-align: right;\n",
       "    }\n",
       "</style>\n",
       "<table border=\"1\" class=\"dataframe\">\n",
       "  <thead>\n",
       "    <tr style=\"text-align: right;\">\n",
       "      <th></th>\n",
       "      <th>S.No.</th>\n",
       "      <th>STATE</th>\n",
       "      <th>DISTRICT</th>\n",
       "      <th>BLOCK</th>\n",
       "      <th>MCLF NAME</th>\n",
       "      <th>MCLF CODE</th>\n",
       "    </tr>\n",
       "  </thead>\n",
       "  <tbody>\n",
       "    <tr>\n",
       "      <th>0</th>\n",
       "      <td>1</td>\n",
       "      <td>ANDAMAN AND NICOBAR</td>\n",
       "      <td>NORTH AND MIDDLE ANDAMAN</td>\n",
       "      <td>DIGLIPUR</td>\n",
       "      <td>DEVI SHAKTI BLOCK LEVEL FEDERATION</td>\n",
       "      <td>AN/NO/DPUR/39400</td>\n",
       "    </tr>\n",
       "  </tbody>\n",
       "</table>\n",
       "</div>"
      ],
      "text/plain": [
       "   S.No.                STATE                  DISTRICT     BLOCK  \\\n",
       "0      1  ANDAMAN AND NICOBAR  NORTH AND MIDDLE ANDAMAN  DIGLIPUR   \n",
       "\n",
       "                            MCLF NAME         MCLF CODE  \n",
       "0  DEVI SHAKTI BLOCK LEVEL FEDERATION  AN/NO/DPUR/39400  "
      ]
     },
     "execution_count": 38,
     "metadata": {},
     "output_type": "execute_result"
    }
   ],
   "source": [
    "data_part"
   ]
  },
  {
   "cell_type": "code",
   "execution_count": 39,
   "id": "32eb1a5c",
   "metadata": {},
   "outputs": [
    {
     "data": {
      "text/plain": [
       "S.No.        0\n",
       "STATE        0\n",
       "DISTRICT     0\n",
       "BLOCK        0\n",
       "MCLF NAME    0\n",
       "MCLF CODE    0\n",
       "dtype: int64"
      ]
     },
     "execution_count": 39,
     "metadata": {},
     "output_type": "execute_result"
    }
   ],
   "source": [
    "data_part.isnull().sum()"
   ]
  },
  {
   "cell_type": "code",
   "execution_count": 40,
   "id": "248e11d5",
   "metadata": {},
   "outputs": [
    {
     "data": {
      "text/plain": [
       "(1, 6)"
      ]
     },
     "execution_count": 40,
     "metadata": {},
     "output_type": "execute_result"
    }
   ],
   "source": [
    "data_part.shape"
   ]
  },
  {
   "cell_type": "code",
   "execution_count": 41,
   "id": "15b74361",
   "metadata": {},
   "outputs": [
    {
     "data": {
      "text/plain": [
       "(2, 6)"
      ]
     },
     "execution_count": 41,
     "metadata": {},
     "output_type": "execute_result"
    }
   ],
   "source": [
    "data.shape"
   ]
  },
  {
   "cell_type": "markdown",
   "id": "72334031",
   "metadata": {},
   "source": [
    "# Line Tokenization"
   ]
  },
  {
   "cell_type": "code",
   "execution_count": 48,
   "id": "e1a0f904",
   "metadata": {},
   "outputs": [
    {
     "name": "stdout",
     "output_type": "stream",
     "text": [
      "Requirement already satisfied: nltk in c:\\users\\sharmajee\\anaconda3\\lib\\site-packages (3.7)\n",
      "Requirement already satisfied: regex>=2021.8.3 in c:\\users\\sharmajee\\anaconda3\\lib\\site-packages (from nltk) (2022.7.9)\n",
      "Requirement already satisfied: click in c:\\users\\sharmajee\\anaconda3\\lib\\site-packages (from nltk) (8.0.4)\n",
      "Requirement already satisfied: joblib in c:\\users\\sharmajee\\anaconda3\\lib\\site-packages (from nltk) (1.1.0)\n",
      "Requirement already satisfied: tqdm in c:\\users\\sharmajee\\anaconda3\\lib\\site-packages (from nltk) (4.64.1)\n",
      "Requirement already satisfied: colorama in c:\\users\\sharmajee\\anaconda3\\lib\\site-packages (from click->nltk) (0.4.5)\n",
      "Note: you may need to restart the kernel to use updated packages.\n"
     ]
    }
   ],
   "source": [
    "pip install nltk"
   ]
  },
  {
   "cell_type": "code",
   "execution_count": 5,
   "id": "413f154b",
   "metadata": {},
   "outputs": [
    {
     "name": "stderr",
     "output_type": "stream",
     "text": [
      "[nltk_data] Downloading package punkt to\n",
      "[nltk_data]     C:\\Users\\Sharmajee\\AppData\\Roaming\\nltk_data...\n",
      "[nltk_data]   Unzipping tokenizers\\punkt.zip.\n"
     ]
    },
    {
     "data": {
      "text/plain": [
       "True"
      ]
     },
     "execution_count": 5,
     "metadata": {},
     "output_type": "execute_result"
    }
   ],
   "source": [
    "import nltk as nl\n",
    "nltk.download('punkt')"
   ]
  },
  {
   "cell_type": "code",
   "execution_count": 7,
   "id": "0f32fb39",
   "metadata": {},
   "outputs": [
    {
     "name": "stdout",
     "output_type": "stream",
     "text": [
      "['Welcome to Great Learning!!', 'I am very happy to be the part of this course']\n"
     ]
    }
   ],
   "source": [
    "data = \"Welcome to Great Learning!! I am very happy to be the part of this course\"\n",
    "tokens = nl.sent_tokenize(data)\n",
    "print(tokens)"
   ]
  },
  {
   "cell_type": "markdown",
   "id": "a909e667",
   "metadata": {},
   "source": [
    "# Word Tokenization"
   ]
  },
  {
   "cell_type": "code",
   "execution_count": 8,
   "id": "38772fcf",
   "metadata": {},
   "outputs": [
    {
     "name": "stdout",
     "output_type": "stream",
     "text": [
      "['Welcome', 'to', 'Great', 'Learning', '!', '!', 'I', 'am', 'very', 'happy', 'to', 'be', 'the', 'part', 'of', 'this', 'course']\n"
     ]
    }
   ],
   "source": [
    "word_tokens = nl.word_tokenize(data)\n",
    "print(word_tokens)"
   ]
  },
  {
   "cell_type": "code",
   "execution_count": 9,
   "id": "48da496c",
   "metadata": {},
   "outputs": [
    {
     "ename": "TypeError",
     "evalue": "list.count() takes exactly one argument (0 given)",
     "output_type": "error",
     "traceback": [
      "\u001b[1;31m---------------------------------------------------------------------------\u001b[0m",
      "\u001b[1;31mTypeError\u001b[0m                                 Traceback (most recent call last)",
      "\u001b[1;32m~\\AppData\\Local\\Temp\\ipykernel_13664\\3341869689.py\u001b[0m in \u001b[0;36m<module>\u001b[1;34m\u001b[0m\n\u001b[1;32m----> 1\u001b[1;33m \u001b[0mword_tokens\u001b[0m\u001b[1;33m.\u001b[0m\u001b[0mcount\u001b[0m\u001b[1;33m(\u001b[0m\u001b[1;33m)\u001b[0m\u001b[1;33m\u001b[0m\u001b[1;33m\u001b[0m\u001b[0m\n\u001b[0m",
      "\u001b[1;31mTypeError\u001b[0m: list.count() takes exactly one argument (0 given)"
     ]
    }
   ],
   "source": [
    "word_tokens.count()"
   ]
  },
  {
   "cell_type": "code",
   "execution_count": 10,
   "id": "bb5bf8bc",
   "metadata": {},
   "outputs": [
    {
     "data": {
      "text/plain": [
       "list"
      ]
     },
     "execution_count": 10,
     "metadata": {},
     "output_type": "execute_result"
    }
   ],
   "source": [
    "type(word_tokens)"
   ]
  },
  {
   "cell_type": "code",
   "execution_count": 11,
   "id": "1962c689",
   "metadata": {},
   "outputs": [
    {
     "data": {
      "text/plain": [
       "17"
      ]
     },
     "execution_count": 11,
     "metadata": {},
     "output_type": "execute_result"
    }
   ],
   "source": [
    "len(word_tokens)"
   ]
  },
  {
   "cell_type": "markdown",
   "id": "eebc0748",
   "metadata": {},
   "source": [
    "# Stemming"
   ]
  },
  {
   "cell_type": "code",
   "execution_count": 14,
   "id": "a11a136b",
   "metadata": {},
   "outputs": [
    {
     "name": "stdout",
     "output_type": "stream",
     "text": [
      "like  :  like\n",
      "liking  :  like\n",
      "likes  :  like\n"
     ]
    }
   ],
   "source": [
    "# import these modules\n",
    "from nltk.stem import PorterStemmer\n",
    "ps = PorterStemmer()\n",
    "\n",
    "# choose some words to be stemmed\n",
    "words = ['like','liking','likes']\n",
    "\n",
    "for i in words:\n",
    "    print(i, \" : \", ps.stem(i))"
   ]
  },
  {
   "cell_type": "markdown",
   "id": "7acff023",
   "metadata": {},
   "source": [
    "# Lemmatization"
   ]
  },
  {
   "cell_type": "code",
   "execution_count": 17,
   "id": "97e7c943",
   "metadata": {},
   "outputs": [
    {
     "name": "stderr",
     "output_type": "stream",
     "text": [
      "[nltk_data] Downloading package wordnet to\n",
      "[nltk_data]     C:\\Users\\Sharmajee\\AppData\\Roaming\\nltk_data...\n",
      "[nltk_data]   Package wordnet is already up-to-date!\n",
      "[nltk_data] Downloading package omw-1.4 to\n",
      "[nltk_data]     C:\\Users\\Sharmajee\\AppData\\Roaming\\nltk_data...\n"
     ]
    },
    {
     "data": {
      "text/plain": [
       "True"
      ]
     },
     "execution_count": 17,
     "metadata": {},
     "output_type": "execute_result"
    }
   ],
   "source": [
    "import nltk\n",
    "nltk.download('wordnet')\n",
    "nltk.download('omw-1.4')"
   ]
  },
  {
   "cell_type": "code",
   "execution_count": 18,
   "id": "4b9f90c0",
   "metadata": {},
   "outputs": [
    {
     "name": "stdout",
     "output_type": "stream",
     "text": [
      "socks: sock\n",
      "sons: son\n"
     ]
    }
   ],
   "source": [
    "from nltk.stem import WordNetLemmatizer\n",
    "\n",
    "lemmati = WordNetLemmatizer()\n",
    "\n",
    "print('socks:', lemmati.lemmatize(\"socks\"))\n",
    "print('sons:',lemmati.lemmatize(\"sons\"))"
   ]
  },
  {
   "cell_type": "markdown",
   "id": "1c7c582d",
   "metadata": {},
   "source": [
    "# Removing stop words"
   ]
  },
  {
   "cell_type": "code",
   "execution_count": 21,
   "id": "d89b30b4",
   "metadata": {},
   "outputs": [
    {
     "name": "stderr",
     "output_type": "stream",
     "text": [
      "[nltk_data] Downloading package stopwords to\n",
      "[nltk_data]     C:\\Users\\Sharmajee\\AppData\\Roaming\\nltk_data...\n",
      "[nltk_data]   Package stopwords is already up-to-date!\n"
     ]
    },
    {
     "data": {
      "text/plain": [
       "True"
      ]
     },
     "execution_count": 21,
     "metadata": {},
     "output_type": "execute_result"
    }
   ],
   "source": [
    "from nltk.corpus import stopwords\n",
    "import nltk\n",
    "nltk.download('stopwords')"
   ]
  },
  {
   "cell_type": "code",
   "execution_count": 27,
   "id": "0a36d910",
   "metadata": {},
   "outputs": [
    {
     "name": "stdout",
     "output_type": "stream",
     "text": [
      "['ثمنمئة', 'تسعمئة', 'مائة', 'ثلاثمائة', 'أربعمائة', 'خمسمائة', 'ستمائة', 'سبعمائة', 'ثمانمئة', 'تسعمائة', 'عشرون', 'ثلاثون', 'اربعون', 'خمسون', 'ستون', 'سبعون', 'ثمانون', 'تسعون', 'عشرين', 'ثلاثين', 'اربعين', 'خمسين', 'ستين', 'سبعين', 'ثمانين', 'تسعين', 'بضع', 'نيف', 'أجمع', 'جميع', 'عامة', 'عين', 'نفس', 'لا سيما', 'أصلا', 'أهلا', 'أيضا', 'بؤسا', 'بعدا', 'بغتة', 'تعسا', 'حقا', 'حمدا', 'خلافا', 'خاصة', 'دواليك', 'سحقا', 'سرا', 'سمعا', 'صبرا', 'صدقا', 'صراحة', 'طرا', 'عجبا', 'عيانا', 'غالبا', 'فرادى', 'فضلا', 'قاطبة', 'كثيرا']\n"
     ]
    }
   ],
   "source": [
    "data = \"\"\"Data science is one of the most trending field to work with. It needs data to give prediction by using the \n",
    "past scenraios\"\"\"\n",
    "\n",
    "stop_words = set(stopwords.words(\"english\"))\n",
    "print(stopwords.words()[620:680])"
   ]
  },
  {
   "cell_type": "code",
   "execution_count": 28,
   "id": "2e663c83",
   "metadata": {},
   "outputs": [
    {
     "data": {
      "text/plain": [
       "['Data',\n",
       " 'science',\n",
       " 'is',\n",
       " 'one',\n",
       " 'of',\n",
       " 'the',\n",
       " 'most',\n",
       " 'trending',\n",
       " 'field',\n",
       " 'to',\n",
       " 'work',\n",
       " 'with',\n",
       " '.',\n",
       " 'It',\n",
       " 'needs',\n",
       " 'data',\n",
       " 'to',\n",
       " 'give',\n",
       " 'prediction',\n",
       " 'by',\n",
       " 'using',\n",
       " 'the',\n",
       " 'past',\n",
       " 'scenraios']"
      ]
     },
     "execution_count": 28,
     "metadata": {},
     "output_type": "execute_result"
    }
   ],
   "source": [
    "data = nltk.word_tokenize(data)\n",
    "data"
   ]
  },
  {
   "cell_type": "code",
   "execution_count": 29,
   "id": "a6e2fdb7",
   "metadata": {},
   "outputs": [],
   "source": [
    "stops = set(stopwords.words('english'))"
   ]
  },
  {
   "cell_type": "code",
   "execution_count": 30,
   "id": "5379884d",
   "metadata": {},
   "outputs": [
    {
     "name": "stdout",
     "output_type": "stream",
     "text": [
      "is\n",
      "of\n",
      "the\n",
      "most\n",
      "to\n",
      "with\n",
      "to\n",
      "by\n",
      "the\n"
     ]
    }
   ],
   "source": [
    "for word in data:\n",
    "    if word in stops:\n",
    "        print(word)"
   ]
  },
  {
   "cell_type": "code",
   "execution_count": null,
   "id": "cb025f51",
   "metadata": {},
   "outputs": [],
   "source": []
  }
 ],
 "metadata": {
  "kernelspec": {
   "display_name": "Python 3 (ipykernel)",
   "language": "python",
   "name": "python3"
  },
  "language_info": {
   "codemirror_mode": {
    "name": "ipython",
    "version": 3
   },
   "file_extension": ".py",
   "mimetype": "text/x-python",
   "name": "python",
   "nbconvert_exporter": "python",
   "pygments_lexer": "ipython3",
   "version": "3.9.13"
  }
 },
 "nbformat": 4,
 "nbformat_minor": 5
}
